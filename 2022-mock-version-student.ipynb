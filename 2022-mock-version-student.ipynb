{
 "cells": [
  {
   "cell_type": "markdown",
   "metadata": {
    "id": "acnqO01X0v_r"
   },
   "source": [
    "# Welcome to the MOCK  MLBD final exam (Spring 2022)\n",
    "\n",
    "The exam questions are contained in this Jupyter Notebook. The `data` folder contains the data. \n",
    "\n",
    "The logistical details, rules, and guidelines pertaining to the exam are stated below. \n",
    "\n",
    "### Timeline and Submission\n",
    "**Exam date:** Wednesday, June 1, 2022   \n",
    "**Exam start:** 08:20 am (CEST)   \n",
    "**Exam end:** 9:20 am (CEST) \n",
    "\n",
    "### Instructions\n",
    "This exam consists of two parts, a Moodle quiz with conceptual questions and programming exercises in this notebook. Be sure to answer the conceptual questions and upload this notebook to Moodle. \n",
    "\n",
    "In case of issues with Moodle, send your file named as \"SCIPER_Firstname_Lastname.ipynb\" via email to paola.mejia@epfl.ch, subject \"[MLBD] Exam notebook\".\n",
    "\n",
    "### Rules\n",
    "\n",
    "1. You are allowed to use any environment. We recommend using EPFL's Noto environment, accessible through the link: [https://noto.epfl.ch/](https://noto.epfl.ch/). We prepared a Python environment with all the Python packages that you might need for the exam, in the default EPFL's Noto installation. If you want to use some additional packages, feel free to install and use them in a virtual environment. In this case, it is your own responsibility to make sure that your environment is functional and that your results can be properly interpreted for grading. \n",
    "\n",
    "2. For questions containing the **/Discuss:/** prefix, answer not with code, but with a textual explanation (in markdown). Add a textual description of your thought process, the assumptions you made, and your results.\n",
    "\n",
    "3. Please write all your comments in English, and use meaningful variable names in your code.\n",
    "\n",
    "4. When asked for plots, please include all the needed decorations, namely title, x/y-axis labels, appropriate x/y-ticks, legend, and so on. \n",
    "\n",
    "5. We will grade your notebook as is, which means that only the results showed in your evaluated code cells will be considered. Please be sure to submit a **fully-run and evaluated notebook**. We will not run the notebook for you. Interactive plots, such as those generated using `plotly`, should be **strictly avoided**.\n",
    "\n",
    "6. You can use all the online resources you want except for communication tools (emails, web chats, forums, phone, etc.). Remember, this is not a project assignment. Therefore, no teamwork is allowed."
   ]
  },
  {
   "cell_type": "code",
   "execution_count": 1,
   "metadata": {
    "id": "xwY0l8fi0v_u"
   },
   "outputs": [],
   "source": [
    "### SOME MINIMALISTIC IMPORTS ###\n",
    "import matplotlib.pyplot as plt\n",
    "import seaborn as sns\n",
    "\n",
    "import pandas as pd\n",
    "import numpy as np\n",
    "import sklearn\n",
    "\n",
    "%matplotlib inline\n",
    "\n",
    "### YOUR ADDITIONAL IMPORT STATEMENTS BELOW ###"
   ]
  },
  {
   "cell_type": "markdown",
   "metadata": {
    "id": "XyVt-JDk0v_u"
   },
   "source": [
    "# > Task A. Dropout Prediction in MOOCs (30 points)"
   ]
  },
  {
   "cell_type": "markdown",
   "metadata": {
    "id": "nV-u5P9a0v_v"
   },
   "source": [
    "Massive open online course (MOOC) platforms allow learners to interact with the **course content** and learn concepts of the learning domain **on their own**. However, the consistently high dropout rate of MOOC learners is a major issue. Guidance in the form of **targeted interventions** has the potential to decrease this dropout rate and improve educational outcomes. In this task, you will explore a promising approach for this purpose: **classification of new learners in real time**.\n",
    "\n",
    "### The data\n",
    "The dataset for this task stems from XuetangX, one of the largest massive open online course platforms in China. The reduced dataset provided to you will include only information about one course. For a user, the system records multiple types of activities: video watching (e.g., load or play a video), forum discussion (e.g., create and delete threads), and problem completion (with correct/incorrect answers). The dropout label is provided for each user. \n",
    "\n",
    "The dataset is available in the `data/` directory pushed to the same GitHub repo as the exam. Inside the data directory, you will find two files:\n",
    "\n",
    "####  1. `log.csv`: a comma-separated file with the following information about user-course interactions\n",
    "\n",
    "- *user_id*: the id of user\n",
    "- *session_id*: the id of session\n",
    "- *action*: the type of action performed by the user \n",
    "    - 'load_video': the user has decided to open and load a course video \n",
    "    - 'play_video': the user has started playing a course video\n",
    "    - 'pause_video': the user has paused a course video\n",
    "    - 'stop_video': the user has stopped a course video\n",
    "    - 'seek_video': the user has selected to go to a different point in the course video\n",
    "    - 'problem_get': the user has accessed to a problem page\n",
    "    - 'problem_check_correct': the problem answer submitted by the student was *correct*\n",
    "    - 'problem_check_incorrect': the problem answer submitted by the student was *incorrect*\n",
    "    - 'create_comment': the user has created a forum comment\n",
    "    - 'delete_comment': the user has deleted a forum comment\n",
    "    - 'create_thread': the user has created a forum thread\n",
    "    - 'delete_thread': the user has deleted a forum thread\n",
    "- *timestamp*: the timestamp of the action\n",
    "- *week*: the week of the course the action occurred (week 0 is the first week, week 5 is the last one included here)\n",
    "\n",
    "####  2. `cluster_labels.csv`: a comma-separated file with the following information about which cluster students belong to\n",
    "- *user_id*: the id of user\n",
    "- *cluster*: the label of user's cluster \n",
    "- *gender*: 1 for female, 0 for men, 2 for non-binary"
   ]
  },
  {
   "cell_type": "markdown",
   "metadata": {
    "id": "BAWypOyT0v_w"
   },
   "source": [
    "### > A1. Load and prepare the data \n",
    "1. Load `data/log.csv` and the `data/cluster_labels.csv`  "
   ]
  },
  {
   "cell_type": "code",
   "execution_count": 2,
   "metadata": {
    "id": "QNrdGx_m0v_w"
   },
   "outputs": [],
   "source": [
    "### YOUR CODE HERE ###"
   ]
  },
  {
   "cell_type": "markdown",
   "metadata": {
    "id": "OPm8jYiP0v_0"
   },
   "source": [
    "2. From the `logs` pandas dataframe, per user compute the percentage of correct problems taking into account only the information from the first three weeks (week 0, week 1 and week 2)\n"
   ]
  },
  {
   "cell_type": "code",
   "execution_count": 4,
   "metadata": {},
   "outputs": [],
   "source": [
    "### YOUR CODE HERE ###"
   ]
  },
  {
   "cell_type": "markdown",
   "metadata": {},
   "source": [
    "3. Compute two other interesting features."
   ]
  },
  {
   "cell_type": "code",
   "execution_count": 5,
   "metadata": {},
   "outputs": [],
   "source": [
    "### YOUR CODE HERE ###"
   ]
  },
  {
   "cell_type": "markdown",
   "metadata": {
    "id": "-6oZSSNu0v_0"
   },
   "source": [
    "4. **/Discuss:/** Why have you added that feature? Why do you think that it can help in modelling users' behavior with respect to dropout? It is expected that you will provide an hypothesis by text"
   ]
  },
  {
   "cell_type": "markdown",
   "metadata": {
    "id": "w9-ECKmE0v_0"
   },
   "source": [
    "> YOUR DISCUSSION HERE"
   ]
  },
  {
   "cell_type": "markdown",
   "metadata": {
    "id": "z5BVJaFM0v_4"
   },
   "source": [
    "### > A2. Classify users' behavior for personalized early intervention\n",
    "\n",
    "You will train a classifier that will predict the cluster label for a student, earlier (week 3), based on the three features you computed in A1. \n"
   ]
  },
  {
   "cell_type": "markdown",
   "metadata": {
    "id": "E8VgaNqNu5G1"
   },
   "source": [
    "1. Perform a train-test set split on the data with the combine features `X` and the corresponding dropout labels `y`, with 80\\% of the users as the train set and the remainder of the users as the test set. Use `random_state=0`. Save the train data in `X_train` (train features) and `y_train` (train cluster labels) and the test data in `X_test` (test features) and `y_test` (test cluster labels). "
   ]
  },
  {
   "cell_type": "code",
   "execution_count": 7,
   "metadata": {
    "id": "5yWQ-S6hu5G1"
   },
   "outputs": [],
   "source": [
    "### YOUR CELLS AND CODE HERE ###"
   ]
  },
  {
   "cell_type": "markdown",
   "metadata": {
    "id": "XZRmxUep0v_4"
   },
   "source": [
    "2. Train a Random Forest classifier exploring the following hyperparameters:\n",
    "* Estimators [10,100, 500]\n",
    "* Maximum depth [2,5,10, None]\n",
    "\n",
    "Please, note that you need to choose an appropriate way of transforming features such that they can be correctly fed into the classifier. Use `random_state=0`. "
   ]
  },
  {
   "cell_type": "code",
   "execution_count": 12,
   "metadata": {
    "id": "SYkIghQi0v_5"
   },
   "outputs": [],
   "source": [
    "### YOUR CELLS AND CODE HERE ###"
   ]
  },
  {
   "cell_type": "markdown",
   "metadata": {
    "id": "hNRoIFn40v_5"
   },
   "source": [
    "3. Report the performance of the fine-tuned Random Forest classifier on `X_test` (test features) and `y_test` (test cluster labels), and create a heatmap with the confusion matrix for this classifier. \n"
   ]
  },
  {
   "cell_type": "code",
   "execution_count": 14,
   "metadata": {
    "id": "Y_eC9DWq0v_5"
   },
   "outputs": [],
   "source": [
    "### YOUR CELLS AND CODE HERE ###"
   ]
  },
  {
   "cell_type": "markdown",
   "metadata": {
    "id": "wqbFHqZV0v_5"
   },
   "source": [
    "4. **/Discuss:/** Are you satisfied with the model performance? How does the predictive performance vary across cluster labels? Do you think that this model could be applied for early intervention in the real world? Discuss then the performance of the model by comparing it to a random prediction baseline and a majority class prediction baseline."
   ]
  },
  {
   "cell_type": "markdown",
   "metadata": {
    "id": "W2XBGW9L0v_5"
   },
   "source": [
    "> YOUR DISCUSSION HERE"
   ]
  },
  {
   "cell_type": "markdown",
   "metadata": {},
   "source": [
    "5. The school principal is worried that your model is better for males than for females. Is this true? Support your claim."
   ]
  },
  {
   "cell_type": "markdown",
   "metadata": {},
   "source": [
    "> YOUR DISCUSSION HERE"
   ]
  }
 ],
 "metadata": {
  "colab": {
   "collapsed_sections": [
    "z5BVJaFM0v_4",
    "wqOd3pJR0v_5",
    "lhbntMHt0v_8",
    "kXcuUcFd0v_9",
    "d6aFBkK-0v__",
    "sgo-lOVa0wAF"
   ],
   "name": "mlbd_exam_spring_2021-solution.ipynb",
   "provenance": []
  },
  "kernelspec": {
   "display_name": "Python 3 (ipykernel)",
   "language": "python",
   "name": "python3"
  },
  "language_info": {
   "codemirror_mode": {
    "name": "ipython",
    "version": 3
   },
   "file_extension": ".py",
   "mimetype": "text/x-python",
   "name": "python",
   "nbconvert_exporter": "python",
   "pygments_lexer": "ipython3",
   "version": "3.8.8"
  },
  "pycharm": {
   "stem_cell": {
    "cell_type": "raw",
    "metadata": {
     "collapsed": false
    },
    "source": []
   }
  },
  "varInspector": {
   "cols": {
    "lenName": 16,
    "lenType": 16,
    "lenVar": 40
   },
   "kernels_config": {
    "python": {
     "delete_cmd_postfix": "",
     "delete_cmd_prefix": "del ",
     "library": "var_list.py",
     "varRefreshCmd": "print(var_dic_list())"
    },
    "r": {
     "delete_cmd_postfix": ") ",
     "delete_cmd_prefix": "rm(",
     "library": "var_list.r",
     "varRefreshCmd": "cat(var_dic_list()) "
    }
   },
   "types_to_exclude": [
    "module",
    "function",
    "builtin_function_or_method",
    "instance",
    "_Feature"
   ],
   "window_display": false
  }
 },
 "nbformat": 4,
 "nbformat_minor": 1
}
